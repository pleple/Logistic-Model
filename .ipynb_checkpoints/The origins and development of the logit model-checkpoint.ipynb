{
 "cells": [
  {
   "cell_type": "markdown",
   "metadata": {},
   "source": [
    "# The origins and development of the logit model\n",
    "\n",
    "J.S. Cramer\n",
    "\n",
    "August 2003\n",
    "\n",
    "- A extended version of Chapter 9 of ***Logit Models from Economics and Other Fields*** (Cambridge University Press, 2003)"
   ]
  },
  {
   "cell_type": "markdown",
   "metadata": {},
   "source": [
    "## Introduction"
   ]
  },
  {
   "cell_type": "code",
   "execution_count": 43,
   "metadata": {
    "collapsed": false
   },
   "outputs": [],
   "source": [
    "import numpy as np\n",
    "import pandas as pd\n",
    "from scipy import stats\n",
    "import matplotlib.pyplot as plt\n",
    "%matplotlib inline"
   ]
  },
  {
   "cell_type": "code",
   "execution_count": 44,
   "metadata": {
    "collapsed": false
   },
   "outputs": [
    {
     "data": {
      "image/png": "[encoded data removed]",
      "text/plain": [
       "<matplotlib.figure.Figure at 0x2072898e5f8>"
      ]
     },
     "metadata": {},
     "output_type": "display_data"
    }
   ],
   "source": [
    "Z = np.arange(-4,4,0.1)\n",
    "P = np.exp(Z) / (1 + np.exp(Z))\n",
    "plt.plot(Z,P)\n",
    "plt.title('Figure 1. The logistic curve')\n",
    "plt.show()"
   ]
  },
  {
   "cell_type": "markdown",
   "metadata": {},
   "source": [
    "The **sigmoid** curve of Figure 1 is traced by the **logistic function**:\n",
    "$$P(Z) = \\frac {exp(Z)} {1+exp(Z)}$$\n",
    "\n",
    "The meaning of this function varies according to the definition of the variables.\n",
    "\n",
    "- In the logit version of bio-assay, P is the probability of a binary outcome.\n",
    "\n",
    "- The logistic function was orginally designed to describe the course of a proportion P over time t."
   ]
  },
  {
   "cell_type": "markdown",
   "metadata": {},
   "source": [
    "Over a fairly wide central range, for values of P from .3 to .7, the shape of the logistic curve closely resembles the normal probability distribution function."
   ]
  },
  {
   "cell_type": "code",
   "execution_count": 45,
   "metadata": {
    "collapsed": false,
    "scrolled": true
   },
   "outputs": [
    {
     "data": {
      "image/png": "[encoded data removed]",
      "text/plain": [
       "<matplotlib.figure.Figure at 0x20728a48198>"
      ]
     },
     "metadata": {},
     "output_type": "display_data"
    }
   ],
   "source": [
    "P_N = stats.norm(scale=1.5)\n",
    "Normal, = plt.plot(Z,P_N.cdf(Z), label='Normal')\n",
    "Logistic, = plt.plot(Z,P,label = 'Logistic')\n",
    "plt.title('Figure 2. Logistic Curve & Normal Distribution(sd=1.5)')\n",
    "plt.legend(handles = [Normal,Logistic],loc=4)\n",
    "plt.show()"
   ]
  },
  {
   "cell_type": "markdown",
   "metadata": {},
   "source": [
    "The two functions \n",
    "$$P_l(x) = \\frac {exp(\\beta x)} {1 + exp(\\beta x)}$$\n",
    "and\n",
    "$$P_n(x) = \\frac 1 {\\sigma\\sqrt{2\\pi}} \\int_{-Inf}^x{exp\\{-1/2(u/\\sigma)^2\\}du}$$\n",
    "both pass through the point (0,.5), and they can be made almost to coincide upon a suitable adjustment of $\\beta$ and $\\sigma$. This is **a sheer algebraic coincidence**, for there appears to be no intrinsic relation between the two forms."
   ]
  },
  {
   "cell_type": "markdown",
   "metadata": {},
   "source": [
    "## The origins of the logistic function\n",
    "\n",
    "The logistic function was invented in the 19th century for the description of the growth of populations and the course of autocatalytic chemical reactions, or chain reactions.\n",
    "\n",
    "In either case we consider teh time path of a quantity $W(t)$ and its growth rate\n",
    "$$W'(t) = \\frac {dW(t)} {dt}$$\n",
    "\n",
    "The simplest **assumption** is that **$W'(t)$ is proportional to $W(t)$**\n",
    "$$W'(t) = \\beta W(t)$$\n",
    "$$\\beta = \\frac {W'(t)} {W(t)}$$\n",
    "with $\\beta$ the constant rate of growth. This leads of course to exponential growth\n",
    "$$W(t) = Aexp\\beta t$$\n",
    "Where A is sometimes replaced by the initial value $W(0)$.\n",
    "\n",
    "With $W(t)$ the human population of a country, this is a model of unopposed growth; as Malthus(1789) put it, a human population, left to itself, will increase in geometric progression.\n",
    "\n",
    "The indiscriminate extrapolation of exponential growth must lead to imposible values, and to solve the probelm, extra term is needed to represent the increasing resistance to further growth, as in\n",
    "$$W'(t) = \\beta W(t) - \\phi(W(t)).$$\n",
    "\n",
    "The logistic appears when this is a simple quadratic\n",
    "$$W'(t) = \\beta W(t)(\\Omega - W(t))$$\n",
    "where $\\Omega$ denotes the upper limit or saturation level of $W$, its asymptote as $t \\rightarrow \\infty.$\n",
    "\n",
    "Growth is now proportional both to the population already attained $W(t)$ and to the remaining room for further expansion $\\Omega - W(t)$.\n",
    "\n",
    "If we express $W(t)$ as a **proportion** \n",
    "$$P(t) = \\frac {W(t)} \\Omega,$$\n",
    "this gives\n",
    "$$P'(t) = \\beta P(t)\\{1-P(t)\\}$$\n",
    "and the solution of this differential equation is\n",
    "$$P(t) = \\frac {exp(\\alpha + \\beta t)} {1 + exp(\\alpha + \\beta t)}$$\n",
    "which Verhulst named the **logistic** function.\n",
    "\n",
    "The basic idea of logistic growth is simple and effective, and it is used to this day to model population growth and market penetration of new products and technologies. The introduction of mobile telephones is an autocatalytic process, and so is the spread of many new products and techniques in industry."
   ]
  },
  {
   "cell_type": "markdown",
   "metadata": {
    "collapsed": true
   },
   "source": [
    "## The invention of the probit and the advent of the logit in bio-assay\n",
    "\n",
    "The classical model of bio-assay: **the stimulus is determinate and responses are random because of the variability of individual tolerance level**.\n",
    "\n",
    "Bliss introduced the term **probit** (short for _probability unit_) originally as a convenient _scale_ for normal deviates, but abandoned this within a year in favour of a different definition which has since been generally accepted:\n",
    "\n",
    "For any (relative) frequency $f$ there is an equivalent normal deviate $\\tilde{Z}$ such that the cumulative normal distribution at $\\tilde{Z}$ equals $f$.\n",
    "$$f = \\frac 1 {\\sqrt{2\\pi}} \\int_{-\\inf}^{\\tilde{Z}} exp\\{-(1/2)u^2\\}du$$\n",
    "\n",
    "The probit of $f$ is this equivalent normal deviate $\\tilde{Z}$, or initially $\\tilde{Z}$ increased by 5; this ensures that the probit is almost always positive, which facilitates calculation. In the probit method probits of relative frequencies or of probabilities $f$ are linearly related to (the logarithm of the) stimulus.\n",
    "\n",
    "Without the underlying theory of bio-assay, probit analysis was quickly used for any realation of a discrete binary outcome to one or more determinants. In economics and market research, for example, the first applications appear already in the 1950s: Farrell(1954) uses a probit model for the ownership of cars of different vintage as a function of household income, and Adam(1958) fits lognormal demand curves to survey data of the willingness to buy cigarette lighters and the like at various prices. The classic monograph on the lognormal distribution of Aitchison and Brown(1957) brought probit analysis to the notice of a wider audience of economists.\n",
    "\n",
    "Joseph Berkson proposed the use of the logistic insetad of the normal probability function, coining the term **logit** by analogy to the **probit** of Bliss. As we have indicated earlier the two functions are almost indistinguishable. By the inverse of the logistic function we have\n",
    "$$logit(P) = log(\\frac P {1-P}) = Z, $$\n",
    "which is of course much simpler than the definition of the probit.\n",
    "\n",
    "The close resemblance of the logistic to the normal distribution function must have been common knowledge among those who were familiar with the logistic; it had been demonstrated by Wilson(1925) and written up by Winsor(1932). \n",
    "\n",
    "Berkson's suggestion was not well received by the biometric establishment. The logit was regarded as somewhat inferior and disreputable because unlike the probit it can not be related to an underlying (normal) distribution of tolerance level.Aitchison and Brown (1957) dismiss the logit in a single sentence, because it \"_lacks a well recognized and manageable frequency distribution of tolerances which the probit curve does possess in a natural way_\". Berkson was aware of this defect and tried to remedy it by adapting the autocatalytic argument, in Berkson (1951), but this did not convince as this argument essentially deals with a process over time. In retrospect it is surprising that so much importance was attached to these somewhat ideological points of interpretation.\n",
    "\n",
    "**In the practical aspect of ease of computation the logit had a clear advantage over the probit, even with maximum likelihood estimation.** To quote Cochran \"_... the speed with which a new technique becomes widely used is considerably influenced by the simplicity or otherwise of the calculations that it requires. Next door to the lecture room in which the probit method is expounded one may still find the laboratory in which the workers compute their LD 50s by the [much less sophisticated] Behrens (Reed-Muench) method ...._\". One this count the logit spread much more quickly in workfloor practice than in the academic discourse. "
   ]
  },
  {
   "cell_type": "code",
   "execution_count": 54,
   "metadata": {
    "collapsed": false
   },
   "outputs": [
    {
     "name": "stdout",
     "output_type": "stream",
     "text": [
      "logit\n",
      "The slowest run took 6.00 times longer than the fastest. This could mean that an intermediate result is being cached.\n",
      "10000 loops, best of 3: 28.6 µs per loop\n",
      "probit\n",
      "The slowest run took 5.38 times longer than the fastest. This could mean that an intermediate result is being cached.\n",
      "1000 loops, best of 3: 301 µs per loop\n"
     ]
    }
   ],
   "source": [
    "print('logit')\n",
    "%timeit np.exp(Z) / (1 + np.exp(Z))\n",
    "print('probit')\n",
    "%timeit P_N.cdf(Z)\n",
    "# 10-20 times."
   ]
  },
  {
   "cell_type": "markdown",
   "metadata": {},
   "source": [
    "In time, the ideological conflict over bio-assay abated. Finney, who had ignored the logit in the second edition of his textbook of 1952, made amends in the third edition of 1970, recognizing (somewhat belatedly) that \"_what matters is the dependence of P on dose and the unknown parameters, and the tolerance distribution is merely a substructure leading to this_\". In fact the narrow conflict between probit and logit in bio-assay had long been overtaken by independent developments in statistics and biometrics. "
   ]
  },
  {
   "cell_type": "markdown",
   "metadata": {},
   "source": [
    "## The ascent of the logit\n",
    "When the ideological debate about logit and probit in bio-assay had abated, around 1960, the logit terminology and the logit transformation were soon much more widely adopted, and their origins forgotten.\n",
    "\n",
    "In statistics, the analytical advantages of the logit transformation as a means of dealing with discrete binary outcomes were soon recognized. The logit model of bio-assay is easily generalized to **logistic regression** where **binary outcomes** are related to a number of determinants, without a specific theoretical background, and this statistical model proved as fertile as linear regression in an earlier era. Later, the link of the logistic model with **discriminant analysis** was recognized, and its ready association with loglinear models in general.\n",
    "\n",
    "In epidemiology, case-control studies began even earlier, and since these are directly concerned with **odds**, and odds ratios, the log-odds or logit transformation arises naturally. The practice had already called for a theoretical justification, especially of the sampling aspects, from  an early date.\n",
    "\n",
    "Until about 1980 computational effort was still an important issue in the discussion of statistical techniques, but by then the computer revolution put an end to this. On the specific issue of estimating logit and probit analyses, **maximum likelihood estimation** became the norm when routines for this method, applicable to individual data, were included in commercial statistical program packages.\n",
    "\n",
    "For a long time, logistic regression, whether in the binary or the multinomial context, was principally used as a technique, a simple tool without a specific underlying process and therefore without a characteristic interpretaion. But in 1973 McFadden, working as a consultant for a Californian public transportation project, linked the multinomial logit to the theory of discrete choice from mathematical psychology. This provided a theoretical foundation of the logit model that is much more profound than any theory put forward for the use of the  probit in bio-assay. It earned its author the Nobel prize in economics in 2000.\n",
    "**McFadden, D. (2001). Economic choices. American Economic Review 91,\n",
    "352-370. Nobel prize acceptance speech.**"
   ]
  },
  {
   "cell_type": "code",
   "execution_count": null,
   "metadata": {
    "collapsed": true
   },
   "outputs": [],
   "source": []
  }
 ],
 "metadata": {
  "anaconda-cloud": {},
  "kernelspec": {
   "display_name": "Python [Root]",
   "language": "python",
   "name": "Python [Root]"
  },
  "language_info": {
   "codemirror_mode": {
    "name": "ipython",
    "version": 3
   },
   "file_extension": ".py",
   "mimetype": "text/x-python",
   "name": "python",
   "nbconvert_exporter": "python",
   "pygments_lexer": "ipython3",
   "version": "3.5.2"
  }
 },
 "nbformat": 4,
 "nbformat_minor": 0
}
